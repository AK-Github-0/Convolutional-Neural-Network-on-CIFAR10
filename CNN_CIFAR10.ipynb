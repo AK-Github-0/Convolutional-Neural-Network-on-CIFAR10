{
  "cells": [
    {
      "cell_type": "markdown",
      "metadata": {
        "id": "oyMEwPQd9KIH"
      },
      "source": [
        "<h1><center>Deep Neural Networks (AI341) - Assignment No. 2 </center></h1>"
      ]
    },
    {
      "cell_type": "markdown",
      "metadata": {
        "id": "kK2igS8p9KII"
      },
      "source": [
        "# Classification of the CIFAR-10 dataset\n",
        "\n",
        "The [CIFAR-10 dataset](https://www.cs.toronto.edu/~kriz/cifar.html) provides 60000 32x32-pixel images, classified into 10 categories.  The figure below provides a random sample of some images in each category.\n",
        "\n",
        "![images.png](Dataset.png)\n",
        "\n",
        "In this assignment, you will learn how to build a Convolutional Neural Network (CNN), which (when trained) will be able to automatically classify new images into one of these categories, you will also learn to optimize your model through different techniques covered in your class.  We will make use of the [Keras library](https://www.tensorflow.org/guide/keras) which provides a high-level interface to TensorFlow."
      ]
    },
    {
      "cell_type": "markdown",
      "metadata": {
        "id": "h5qF5vzo9KII"
      },
      "source": [
        "# Table of content\n",
        "\n",
        "[1. Introduction to keras](#intro_keras)<br>\n",
        "[2. A first look at the data set](#dataset)<br>\n",
        "[3. A first naive model](#first_model)<br>\n",
        "[4. Interpreting the results](#results)<br>\n",
        "[4.1 Making predictions](#results_prediction)<br>\n",
        "[4.2 Evaluating the results](#results_evaluation)<br>\n",
        "\n"
      ]
    },
    {
      "cell_type": "markdown",
      "metadata": {
        "id": "bH6WXfe09KIJ"
      },
      "source": [
        "<a id='intro_keras'></a>\n",
        "\n",
        "## 0 - Introduction to Keras\n",
        "\n",
        "Keras is a high-level API to build and train deep learning models. It's used for fast prototyping, advanced research, and production, with three key advantages:\n",
        "\n",
        "- __User friendly__: Keras has a simple, consistent interface optimized for common use cases. It provides clear and actionable feedback for user errors.\n",
        "- __Modular and composable__: Keras models are made by connecting configurable building blocks together, with few restrictions.\n",
        "- __Easy to extend__: Write custom building blocks to express new ideas for research. Create new layers, loss functions, and develop state-of-the-art models.\n",
        "\n",
        "In Keras, models are built by assymbling multiple layers.  Suppose we want to create a new multilayer perceptron model to categorize 128-feature data into 10 labeled categories.  Keras code looks like:\n",
        "\n",
        "```python\n",
        "# Create a sequential model\n",
        "model = keras.models.Sequential()\n",
        "# Adds a densely-connected layer with 64 units to the model\n",
        "model.add(layers.Dense(64, activation='relu'), input_shape=[128])\n",
        "# Add another\n",
        "model.add(layers.Dense(32, activation='relu'))\n",
        "# Add a softmax layer with 10 output units\n",
        "model.add(layers.Dense(10, activation='softmax'))\n",
        "```\n",
        "\n",
        "The `input_shape` argument must be given for the first layer in the model, however all other layers will automatically determine the input shape based on the previous layer in the model.  Note that the code above is substantially simpler than the corresponding TensorFlow code.  This is particularly useful for building convolutional or other types of layers, as we will see.\n",
        "\n",
        "Once built, a model's learning can be configured with the `compile()` function:\n",
        "\n",
        "```python\n",
        "model.compile(\n",
        "    loss='categorical_crossentropy', \n",
        "    optimizer=tf.train.AdamOptimizer(0.001), \n",
        "    metrics=['accuracy'])\n",
        "```\n",
        "\n",
        "In this case, a cross-entropy loss function is used with the ADAM optimization algorithm.  The `metrics` argument allows the model to keep track of a number of [training metrics](https://www.tensorflow.org/api_docs/python/tf/keras/metrics) during training.\n",
        "\n",
        "Once configured, training is performed using the `fit()` function.\n",
        "\n",
        "```python\n",
        "model.fit(data, labels, epochs=10, batch_size=32)\n",
        "```\n",
        "\n",
        "The function takes an array-like (could be numpy array) of data and the corresponding target values, and performs the optimization of the learnable parameters in the model.  See the documentation for the [fit()](https://www.tensorflow.org/api_docs/python/tf/keras/models/Model#fit) function for more details.\n",
        "\n",
        "Once trained, the model can be used to predict, using the `predict()` function. \n",
        "\n",
        "```python\n",
        "prediction = model.predict(new_data)\n",
        "```"
      ]
    },
    {
      "cell_type": "markdown",
      "metadata": {
        "id": "tbtsKtlj9KIK"
      },
      "source": [
        "<a id='dataset'></a>\n",
        "# 1 - Understanding the data set"
      ]
    },
    {
      "cell_type": "markdown",
      "metadata": {
        "id": "qGpAFxzo9KIK"
      },
      "source": [
        "Begin by importing the necessary modules."
      ]
    },
    {
      "cell_type": "code",
      "execution_count": 101,
      "metadata": {
        "id": "dSc6vNHw9KIK",
        "scrolled": true
      },
      "outputs": [],
      "source": [
        "import tensorflow as tf\n",
        "import numpy as np\n",
        "import matplotlib.pyplot as plt\n",
        "from keras.layers import Dense, Flatten, Activation\n",
        "from keras.layers import Conv2D, MaxPooling2D\n",
        "from keras.layers import Dropout, BatchNormalization\n",
        "from keras.optimizers import SGD\n",
        "from keras.datasets import cifar10\n",
        "from keras.utils.np_utils import to_categorical\n",
        "from keras.models import Model\n",
        "from keras.models import Sequential\n",
        "from keras.callbacks import EarlyStopping\n",
        "from sklearn.metrics import confusion_matrix"
      ]
    },
    {
      "cell_type": "markdown",
      "metadata": {
        "id": "TEAMOZQm9KIL"
      },
      "source": [
        "Understanding your dataset is the first prerequisit to training any model.  The CIFAR-10 dataset can be loaded directly from Keras.\n",
        "\n",
        "**1) Download the dataset. See [`keras.datasets`](https://keras.io/datasets/) for how to download the data, and in what format it is provided.  Note that the dataset is already divided into a training set of 50000 images, and a test set of 10000.**"
      ]
    },
    {
      "cell_type": "code",
      "execution_count": 91,
      "metadata": {
        "id": "TLBw0x5F9KIL"
      },
      "outputs": [],
      "source": [
        "(train_images,train_labels),(test_images,test_labels) = cifar10.load_data()"
      ]
    },
    {
      "cell_type": "markdown",
      "metadata": {
        "id": "SQF_I6qb9KIL"
      },
      "source": [
        "**2) Verify that the shape of the image and target arrays are what you expect.**\n"
      ]
    },
    {
      "cell_type": "code",
      "execution_count": 92,
      "metadata": {
        "colab": {
          "base_uri": "https://localhost:8080/"
        },
        "id": "uZQXvBYr9KIM",
        "outputId": "f8c27b86-34de-4f35-e044-a8d8d32f714d"
      },
      "outputs": [
        {
          "output_type": "stream",
          "name": "stdout",
          "text": [
            "Training images shape (50000, 32, 32, 3)\n",
            "Test images shape (10000, 32, 32, 3)\n"
          ]
        }
      ],
      "source": [
        "print(\"Training images shape\",train_images.shape)\n",
        "print(\"Test images shape\",test_images.shape)"
      ]
    },
    {
      "cell_type": "markdown",
      "metadata": {
        "id": "HrFwcrKZ9KIM"
      },
      "source": [
        "We now create a list of labels corresponding to the 10 categories.  It will be used to convert the 0-9 digits in the target arrays to string labels. The categories are labeled as follows:\n",
        "\n",
        "  0. airplane\n",
        "  1. automobile\n",
        "  2. bird\n",
        "  3. cat\n",
        "  4. deer\n",
        "  5. dog\n",
        "  6. frog\n",
        "  7. horse\n",
        "  8. ship\n",
        "  9. truck\n"
      ]
    },
    {
      "cell_type": "code",
      "execution_count": 93,
      "metadata": {
        "id": "sFyfdb169KIM"
      },
      "outputs": [],
      "source": [
        "classes = [\"airplane\",\"automobile\",\"bird\",\"cat\",\"deer\",\"dog\",\"frog\",\"horse\",\"ship\",\"truck\"]"
      ]
    },
    {
      "cell_type": "markdown",
      "metadata": {
        "id": "vB89wgrA9KIM"
      },
      "source": [
        "**3) Normalize the image data from [0,255] to be [0,1].  Normalizing improves model training (to test this, you can comment out the normalization later).**"
      ]
    },
    {
      "cell_type": "code",
      "execution_count": 94,
      "metadata": {
        "id": "x6aCYkzu9KIM"
      },
      "outputs": [],
      "source": [
        "train_images = train_images/255.0\n",
        "test_images = test_images/255.0"
      ]
    },
    {
      "cell_type": "markdown",
      "metadata": {
        "id": "qBb2X0U79KIM"
      },
      "source": [
        "**4) Convert the target arrays to one-hot encodings.  Hint: checkout the [`keras.utils.np_utils.to_categorical()`](https://www.tensorflow.org/api_docs/python/tf/keras/utils/to_categorical)**"
      ]
    },
    {
      "cell_type": "code",
      "execution_count": 95,
      "metadata": {
        "id": "EszZroOI9KIN"
      },
      "outputs": [],
      "source": [
        "train_labels = to_categorical(train_labels,num_classes = 10)\n",
        "test_labels = to_categorical(test_labels,num_classes = 10)"
      ]
    },
    {
      "cell_type": "markdown",
      "metadata": {
        "id": "RAlq5g959KIN"
      },
      "source": [
        "**5) Visualize some images in each category using the `imshow()` function in `matplotlib.pyplot`.  Can you recreate the figure below?  Hint: the below figure was created using the first 8 images belonging to each category in the training data.**"
      ]
    },
    {
      "cell_type": "markdown",
      "metadata": {
        "id": "b4lC1EI_9KIN"
      },
      "source": [
        "![Dataset.png](attachment:Dataset.png)"
      ]
    },
    {
      "cell_type": "code",
      "execution_count": 7,
      "metadata": {
        "colab": {
          "base_uri": "https://localhost:8080/",
          "height": 1000
        },
        "id": "LvqNFYkO9KIO",
        "outputId": "6e1c9ed7-c794-4a20-9b2b-77d2c2855e8d"
      },
      "outputs": [
        {
          "output_type": "display_data",
          "data": {
            "text/plain": [
              "<Figure size 432x288 with 1 Axes>"
            ],
            "image/png": "[encoded data removed]"
          },
          "metadata": {
            "needs_background": "light"
          }
        },
        {
          "output_type": "display_data",
          "data": {
            "text/plain": [
              "<Figure size 432x288 with 1 Axes>"
            ],
            "image/png": "[encoded data removed]"
          },
          "metadata": {
            "needs_background": "light"
          }
        },
        {
          "output_type": "display_data",
          "data": {
            "text/plain": [
              "<Figure size 432x288 with 1 Axes>"
            ],
            "image/png": "[encoded data removed]"
          },
          "metadata": {
            "needs_background": "light"
          }
        },
        {
          "output_type": "display_data",
          "data": {
            "text/plain": [
              "<Figure size 432x288 with 1 Axes>"
            ],
            "image/png": "[encoded data removed]"
          },
          "metadata": {
            "needs_background": "light"
          }
        },
        {
          "output_type": "display_data",
          "data": {
            "text/plain": [
              "<Figure size 432x288 with 1 Axes>"
            ],
            "image/png": "[encoded data removed]"
          },
          "metadata": {
            "needs_background": "light"
          }
        },
        {
          "output_type": "display_data",
          "data": {
            "text/plain": [
              "<Figure size 432x288 with 1 Axes>"
            ],
            "image/png": "[encoded data removed]"
          },
          "metadata": {
            "needs_background": "light"
          }
        },
        {
          "output_type": "display_data",
          "data": {
            "text/plain": [
              "<Figure size 432x288 with 1 Axes>"
            ],
            "image/png": "[encoded data removed]"
          },
          "metadata": {
            "needs_background": "light"
          }
        },
        {
          "output_type": "display_data",
          "data": {
            "text/plain": [
              "<Figure size 432x288 with 1 Axes>"
            ],
            "image/png": "[encoded data removed]"
          },
          "metadata": {
            "needs_background": "light"
          }
        }
      ],
      "source": [
        "for i in range(8):\n",
        "  plt.imshow(train_images[i])\n",
        "  plt.show()"
      ]
    },
    {
      "cell_type": "markdown",
      "metadata": {
        "id": "m67yR7kH9KIO"
      },
      "source": [
        "<a id='first_model'></a>\n",
        "\n",
        "# 2 - First naive model\n",
        "\n",
        "In order to better understand the importance of CNNs, it is instructive to first see how well a naive dense network performs on the dataset.\n",
        "\n",
        "**6) Create a sequential model with 4 `Dense` hidden layers of 2048, 1024, 512, and 256 nodes each, with ReLU activation, and a final output layer of 10 nodes. Compile the model with a `categorical_crossentropy` loss, using the SGD optimizer, and the `accuracy` metric. \n",
        "Note that you will need to use the `Flatten` layer first in order to convert the 3D (x, y, rgb) image data into 1D.**"
      ]
    },
    {
      "cell_type": "code",
      "execution_count": 8,
      "metadata": {
        "id": "yCx5Dw9A9KIO"
      },
      "outputs": [],
      "source": [
        "model = Sequential()\n",
        "model.add(Flatten(input_shape=[32,32,3]))\n",
        "model.add(Dense(2048, activation='relu', input_dim = 1024))\n",
        "model.add(Dense(1024, activation='relu'))\n",
        "model.add(Dense(512, activation='relu'))\n",
        "model.add(Dense(256, activation='relu'))\n",
        "model.add(Dense(10, activation='softmax'))"
      ]
    },
    {
      "cell_type": "code",
      "execution_count": 9,
      "metadata": {
        "id": "HjXzQ1tUP4PF"
      },
      "outputs": [],
      "source": [
        "model.compile(loss='categorical_crossentropy', optimizer= 'SGD', metrics=['accuracy'])"
      ]
    },
    {
      "cell_type": "markdown",
      "metadata": {
        "id": "iU_4Edh69KIP"
      },
      "source": [
        "**7) Compute by hand the total number of trainable parameters (weights and biases) in the model.**"
      ]
    },
    {
      "cell_type": "markdown",
      "metadata": {
        "id": "bJTS5s8c9KIP"
      },
      "source": [
        "The total number of parameters would be 2099200 + 2098176 + 524416 + 131328 + 2570 = 4516870\n"
      ]
    },
    {
      "cell_type": "markdown",
      "metadata": {
        "id": "iszghUkE9KIP"
      },
      "source": [
        "**8) Use the `summary()` function on model to get a text summary of the model.  Did you compute the number of parameters correctly?**"
      ]
    },
    {
      "cell_type": "code",
      "source": [
        "model.summary()"
      ],
      "metadata": {
        "colab": {
          "base_uri": "https://localhost:8080/"
        },
        "id": "KZczAM7GRmez",
        "outputId": "b05dfa2b-f6dc-4f28-c609-1b126a3d1713"
      },
      "execution_count": 119,
      "outputs": [
        {
          "output_type": "stream",
          "name": "stdout",
          "text": [
            "Model: \"vgg16\"\n",
            "_________________________________________________________________\n",
            " Layer (type)                Output Shape              Param #   \n",
            "=================================================================\n",
            " input_2 (InputLayer)        [(None, 32, 32, 3)]       0         \n",
            "                                                                 \n",
            " block1_conv1 (Conv2D)       (None, 32, 32, 64)        1792      \n",
            "                                                                 \n",
            " block1_conv2 (Conv2D)       (None, 32, 32, 64)        36928     \n",
            "                                                                 \n",
            " block1_pool (MaxPooling2D)  (None, 16, 16, 64)        0         \n",
            "                                                                 \n",
            " block2_conv1 (Conv2D)       (None, 16, 16, 128)       73856     \n",
            "                                                                 \n",
            " block2_conv2 (Conv2D)       (None, 16, 16, 128)       147584    \n",
            "                                                                 \n",
            " block2_pool (MaxPooling2D)  (None, 8, 8, 128)         0         \n",
            "                                                                 \n",
            " block3_conv1 (Conv2D)       (None, 8, 8, 256)         295168    \n",
            "                                                                 \n",
            " block3_conv2 (Conv2D)       (None, 8, 8, 256)         590080    \n",
            "                                                                 \n",
            " block3_conv3 (Conv2D)       (None, 8, 8, 256)         590080    \n",
            "                                                                 \n",
            " block3_pool (MaxPooling2D)  (None, 4, 4, 256)         0         \n",
            "                                                                 \n",
            " block4_conv1 (Conv2D)       (None, 4, 4, 512)         1180160   \n",
            "                                                                 \n",
            " block4_conv2 (Conv2D)       (None, 4, 4, 512)         2359808   \n",
            "                                                                 \n",
            " block4_conv3 (Conv2D)       (None, 4, 4, 512)         2359808   \n",
            "                                                                 \n",
            " block4_pool (MaxPooling2D)  (None, 2, 2, 512)         0         \n",
            "                                                                 \n",
            " block5_conv1 (Conv2D)       (None, 2, 2, 512)         2359808   \n",
            "                                                                 \n",
            " block5_conv2 (Conv2D)       (None, 2, 2, 512)         2359808   \n",
            "                                                                 \n",
            " block5_conv3 (Conv2D)       (None, 2, 2, 512)         2359808   \n",
            "                                                                 \n",
            " block5_pool (MaxPooling2D)  (None, 1, 1, 512)         0         \n",
            "                                                                 \n",
            " flatten (Flatten)           (None, 512)               0         \n",
            "                                                                 \n",
            " fc1 (Dense)                 (None, 4096)              2101248   \n",
            "                                                                 \n",
            " fc2 (Dense)                 (None, 4096)              16781312  \n",
            "                                                                 \n",
            " predictions (Dense)         (None, 10)                40970     \n",
            "                                                                 \n",
            "=================================================================\n",
            "Total params: 33,638,218\n",
            "Trainable params: 33,638,218\n",
            "Non-trainable params: 0\n",
            "_________________________________________________________________\n"
          ]
        }
      ]
    },
    {
      "cell_type": "markdown",
      "metadata": {
        "id": "4wsZAddn9KIP"
      },
      "source": [
        "**9) Train the model:**\n",
        "  - Start with a small batch size of 32 and train for 10 epochs\n",
        "  - Use early stopping on the validation accuracy with a patience of 2 (use 10% of your training set as the validation set)\n",
        "  \n",
        "**How does the model perform?**"
      ]
    },
    {
      "cell_type": "code",
      "execution_count": 10,
      "metadata": {
        "colab": {
          "base_uri": "https://localhost:8080/"
        },
        "id": "s_ZTQlLA9KIP",
        "outputId": "34a6bcae-3bb6-42f1-e55e-bc8f1e211fd6"
      },
      "outputs": [
        {
          "output_type": "stream",
          "name": "stdout",
          "text": [
            "Epoch 1/10\n",
            "1407/1407 [==============================] - 9s 5ms/step - loss: 1.8446 - accuracy: 0.3371 - val_loss: 1.8010 - val_accuracy: 0.3502\n",
            "Epoch 2/10\n",
            "1407/1407 [==============================] - 6s 4ms/step - loss: 1.6442 - accuracy: 0.4129 - val_loss: 1.7463 - val_accuracy: 0.3758\n",
            "Epoch 3/10\n",
            "1407/1407 [==============================] - 6s 4ms/step - loss: 1.5548 - accuracy: 0.4465 - val_loss: 1.6013 - val_accuracy: 0.4306\n",
            "Epoch 4/10\n",
            "1407/1407 [==============================] - 6s 4ms/step - loss: 1.4937 - accuracy: 0.4698 - val_loss: 1.4954 - val_accuracy: 0.4636\n",
            "Epoch 5/10\n",
            "1407/1407 [==============================] - 6s 4ms/step - loss: 1.4419 - accuracy: 0.4851 - val_loss: 1.8041 - val_accuracy: 0.3522\n",
            "Epoch 6/10\n",
            "1407/1407 [==============================] - 6s 4ms/step - loss: 1.3976 - accuracy: 0.5026 - val_loss: 1.4399 - val_accuracy: 0.4862\n",
            "Epoch 7/10\n",
            "1407/1407 [==============================] - 6s 4ms/step - loss: 1.3513 - accuracy: 0.5188 - val_loss: 1.5196 - val_accuracy: 0.4604\n",
            "Epoch 8/10\n",
            "1407/1407 [==============================] - 6s 4ms/step - loss: 1.3146 - accuracy: 0.5339 - val_loss: 1.6033 - val_accuracy: 0.4160\n"
          ]
        }
      ],
      "source": [
        "history = model.fit(train_images,train_labels,batch_size = 32,epochs = 10, callbacks = EarlyStopping(monitor = 'val_loss',patience= 2),validation_split= 0.1)"
      ]
    },
    {
      "cell_type": "markdown",
      "metadata": {
        "id": "WtoN4k8L9KIQ"
      },
      "source": [
        "**10) Try changing the batch size to see if there is any improvement.**"
      ]
    },
    {
      "cell_type": "code",
      "execution_count": 11,
      "metadata": {
        "id": "koUH-pVv9KIQ",
        "colab": {
          "base_uri": "https://localhost:8080/"
        },
        "outputId": "1a91a319-4570-4944-d963-7275080644a3"
      },
      "outputs": [
        {
          "output_type": "stream",
          "name": "stdout",
          "text": [
            "Epoch 1/10\n",
            "704/704 [==============================] - 3s 5ms/step - loss: 1.2148 - accuracy: 0.5702 - val_loss: 1.4262 - val_accuracy: 0.4876\n",
            "Epoch 2/10\n",
            "704/704 [==============================] - 4s 6ms/step - loss: 1.1881 - accuracy: 0.5799 - val_loss: 2.2260 - val_accuracy: 0.3080\n",
            "Epoch 3/10\n",
            "704/704 [==============================] - 3s 4ms/step - loss: 1.1644 - accuracy: 0.5902 - val_loss: 2.0026 - val_accuracy: 0.3992\n"
          ]
        }
      ],
      "source": [
        "history = model.fit(train_images,train_labels,batch_size = 64,epochs = 10,callbacks = EarlyStopping(monitor = 'val_loss',patience= 2), validation_split= 0.1)"
      ]
    },
    {
      "cell_type": "markdown",
      "metadata": {
        "id": "uu71Otj79KIQ"
      },
      "source": [
        "**11) Try adding batch normalization after each hidden layer.  Any better?**"
      ]
    },
    {
      "cell_type": "code",
      "execution_count": 12,
      "metadata": {
        "id": "mwrtY8HZ9KIQ"
      },
      "outputs": [],
      "source": [
        "model2 = Sequential()\n",
        "model2.add(Flatten(input_shape=[32,32,3]))\n",
        "model2.add(Dense(2048, activation='relu', input_dim = 1024))\n",
        "model2.add(BatchNormalization())\n",
        "model2.add(Dense(1024, activation='relu'))\n",
        "model2.add(BatchNormalization())\n",
        "model2.add(Dense(512, activation='relu'))\n",
        "model2.add(BatchNormalization())\n",
        "model2.add(Dense(256, activation='relu'))\n",
        "model2.add(Dense(10, activation='softmax'))"
      ]
    },
    {
      "cell_type": "code",
      "execution_count": 13,
      "metadata": {
        "id": "4HwvCfPRqwE3"
      },
      "outputs": [],
      "source": [
        "model2.build(input_shape=(None,32,32,3))\n",
        "model2.compile(loss='categorical_crossentropy', optimizer= 'SGD', metrics=['accuracy'])"
      ]
    },
    {
      "cell_type": "code",
      "execution_count": 14,
      "metadata": {
        "id": "BI3wf0OzqgnJ",
        "colab": {
          "base_uri": "https://localhost:8080/"
        },
        "outputId": "0c2c594a-c53b-461a-c7b5-50399ca724b6"
      },
      "outputs": [
        {
          "output_type": "stream",
          "name": "stdout",
          "text": [
            "Epoch 1/10\n",
            "1407/1407 [==============================] - 10s 6ms/step - loss: 1.7130 - accuracy: 0.3946 - val_loss: 1.6493 - val_accuracy: 0.4154\n",
            "Epoch 2/10\n",
            "1407/1407 [==============================] - 10s 7ms/step - loss: 1.4669 - accuracy: 0.4798 - val_loss: 1.5701 - val_accuracy: 0.4540\n",
            "Epoch 3/10\n",
            "1407/1407 [==============================] - 8s 6ms/step - loss: 1.3671 - accuracy: 0.5160 - val_loss: 1.5195 - val_accuracy: 0.4710\n",
            "Epoch 4/10\n",
            "1407/1407 [==============================] - 13s 9ms/step - loss: 1.3180 - accuracy: 0.5322 - val_loss: 1.7079 - val_accuracy: 0.4136\n",
            "Epoch 5/10\n",
            "1407/1407 [==============================] - 9s 7ms/step - loss: 1.2769 - accuracy: 0.5471 - val_loss: 1.4959 - val_accuracy: 0.4712\n",
            "Epoch 6/10\n",
            "1407/1407 [==============================] - 9s 6ms/step - loss: 1.2449 - accuracy: 0.5581 - val_loss: 1.5179 - val_accuracy: 0.4678\n",
            "Epoch 7/10\n",
            "1407/1407 [==============================] - 12s 8ms/step - loss: 1.2244 - accuracy: 0.5628 - val_loss: 2.8591 - val_accuracy: 0.2104\n"
          ]
        },
        {
          "output_type": "execute_result",
          "data": {
            "text/plain": [
              "<keras.callbacks.History at 0x7ff370050730>"
            ]
          },
          "metadata": {},
          "execution_count": 14
        }
      ],
      "source": [
        "model2.fit(train_images,train_labels,batch_size = 32,epochs = 10, callbacks = EarlyStopping(monitor = 'val_loss',patience= 2),validation_split= 0.1)"
      ]
    },
    {
      "cell_type": "markdown",
      "metadata": {
        "id": "NX8cePjv9KIQ"
      },
      "source": [
        "<a id='cnn'></a>\n",
        "\n",
        "# 3 - Convolutional Neural Network\n",
        " \n",
        "\n",
        "Convolutional neural networks allow us to do drastically better on this dataset (and many image classification problems in general). In this task, you will build a convolutional network and see how it performs during training."
      ]
    },
    {
      "cell_type": "markdown",
      "metadata": {
        "id": "jvHmiq249KIQ"
      },
      "source": [
        "**12) Create a new model with the following layers**\n",
        "  - 3x3 2D convolution with zero padding (same), 32 filters\n",
        "  - ReLU activation\n",
        "  - 3,3 2D convolution, no padding, 32 filters\n",
        "  - ReLU activation\n",
        "  - Max pooling with size (2,2)\n",
        "  - 3x3 2D convolution, no padding, 64 filters\n",
        "  - ReLU activation\n",
        "  - 3x3 2D convolution, no padding, 64 filters\n",
        "  - ReLU activation\n",
        "  - Max pooling with size (2,2)\n",
        "  - Flatten\n",
        "  - Dense layer with 512 nodes, ReLU activation\n",
        "  - Softmax output layer with 10 nodes\n",
        "  \n",
        "**Compile the network with same optimizer and metrics as the dense network.**  "
      ]
    },
    {
      "cell_type": "code",
      "execution_count": 15,
      "metadata": {
        "id": "Gmr84q7A9KIR"
      },
      "outputs": [],
      "source": [
        "cnmodel = Sequential()\n",
        "cnmodel.add(Conv2D(32, (3, 3), activation='relu', input_shape=(32, 32, 3)))\n",
        "cnmodel.add(Conv2D(32, (3, 3), activation='relu'))\n",
        "cnmodel.add(MaxPooling2D((2, 2)))\n",
        "cnmodel.add(Conv2D(64, (3, 3), activation='relu',))\n",
        "cnmodel.add(Conv2D(64, (3, 3), activation='relu',))\n",
        "cnmodel.add(MaxPooling2D((2, 2)))\n",
        "cnmodel.add(Flatten(input_shape=[32,32,3]))\n",
        "cnmodel.add(Dense(512, activation='relu',input_dim = 1024))\n",
        "cnmodel.add(Dense(10, activation='softmax'))"
      ]
    },
    {
      "cell_type": "markdown",
      "metadata": {
        "id": "akUlVLHg9KIR"
      },
      "source": [
        "**13) Compute by hand the number of trainable parameters in this network.  Are there more or less than the more simple dense network?  Why?  Confirm with `summary()`.**"
      ]
    },
    {
      "cell_type": "code",
      "execution_count": 16,
      "metadata": {
        "id": "5UZ4fcU09KIR",
        "colab": {
          "base_uri": "https://localhost:8080/"
        },
        "outputId": "b854a03b-a89b-4aa5-dff6-fb3fedefb45b"
      },
      "outputs": [
        {
          "output_type": "stream",
          "name": "stdout",
          "text": [
            "Model: \"sequential_2\"\n",
            "_________________________________________________________________\n",
            " Layer (type)                Output Shape              Param #   \n",
            "=================================================================\n",
            " conv2d (Conv2D)             (None, 30, 30, 32)        896       \n",
            "                                                                 \n",
            " conv2d_1 (Conv2D)           (None, 28, 28, 32)        9248      \n",
            "                                                                 \n",
            " max_pooling2d (MaxPooling2D  (None, 14, 14, 32)       0         \n",
            " )                                                               \n",
            "                                                                 \n",
            " conv2d_2 (Conv2D)           (None, 12, 12, 64)        18496     \n",
            "                                                                 \n",
            " conv2d_3 (Conv2D)           (None, 10, 10, 64)        36928     \n",
            "                                                                 \n",
            " max_pooling2d_1 (MaxPooling  (None, 5, 5, 64)         0         \n",
            " 2D)                                                             \n",
            "                                                                 \n",
            " flatten_2 (Flatten)         (None, 1600)              0         \n",
            "                                                                 \n",
            " dense_10 (Dense)            (None, 512)               819712    \n",
            "                                                                 \n",
            " dense_11 (Dense)            (None, 10)                5130      \n",
            "                                                                 \n",
            "=================================================================\n",
            "Total params: 890,410\n",
            "Trainable params: 890,410\n",
            "Non-trainable params: 0\n",
            "_________________________________________________________________\n"
          ]
        }
      ],
      "source": [
        "cnmodel.summary()"
      ]
    },
    {
      "cell_type": "markdown",
      "metadata": {
        "id": "LGHsjeFB9KIR"
      },
      "source": [
        "**14) Use the same training procedure as before for 10 epochs and batch size of 32. How does the validation accuracy change with each epoch?**"
      ]
    },
    {
      "cell_type": "code",
      "execution_count": 17,
      "metadata": {
        "id": "RDynmOyI9KIR",
        "colab": {
          "base_uri": "https://localhost:8080/"
        },
        "outputId": "f698feb2-accf-4f8a-9513-45b63eb52962"
      },
      "outputs": [
        {
          "output_type": "stream",
          "name": "stdout",
          "text": [
            "Epoch 1/10\n",
            "1407/1407 [==============================] - 14s 5ms/step - loss: 2.0271 - accuracy: 0.2541 - val_loss: 1.8973 - val_accuracy: 0.3036\n",
            "Epoch 2/10\n",
            "1407/1407 [==============================] - 13s 9ms/step - loss: 1.6317 - accuracy: 0.4120 - val_loss: 1.5171 - val_accuracy: 0.4496\n",
            "Epoch 3/10\n",
            "1407/1407 [==============================] - 11s 8ms/step - loss: 1.4322 - accuracy: 0.4855 - val_loss: 1.4317 - val_accuracy: 0.4834\n",
            "Epoch 4/10\n",
            "1407/1407 [==============================] - 7s 5ms/step - loss: 1.3098 - accuracy: 0.5358 - val_loss: 1.3881 - val_accuracy: 0.4890\n",
            "Epoch 5/10\n",
            "1407/1407 [==============================] - 7s 5ms/step - loss: 1.2136 - accuracy: 0.5695 - val_loss: 1.2289 - val_accuracy: 0.5640\n",
            "Epoch 6/10\n",
            "1407/1407 [==============================] - 7s 5ms/step - loss: 1.1295 - accuracy: 0.6012 - val_loss: 1.2666 - val_accuracy: 0.5440\n",
            "Epoch 7/10\n",
            "1407/1407 [==============================] - 7s 5ms/step - loss: 1.0528 - accuracy: 0.6330 - val_loss: 1.1308 - val_accuracy: 0.6110\n",
            "Epoch 8/10\n",
            "1407/1407 [==============================] - 7s 5ms/step - loss: 0.9787 - accuracy: 0.6556 - val_loss: 1.1109 - val_accuracy: 0.6148\n",
            "Epoch 9/10\n",
            "1407/1407 [==============================] - 7s 5ms/step - loss: 0.9068 - accuracy: 0.6835 - val_loss: 1.1499 - val_accuracy: 0.6104\n",
            "Epoch 10/10\n",
            "1407/1407 [==============================] - 7s 5ms/step - loss: 0.8385 - accuracy: 0.7079 - val_loss: 1.0536 - val_accuracy: 0.6398\n"
          ]
        }
      ],
      "source": [
        "cnmodel.compile(loss='categorical_crossentropy', optimizer= 'SGD', metrics=['accuracy'])\n",
        "history = cnmodel.fit(train_images, train_labels,batch_size = 32, epochs=10, validation_split=0.1)"
      ]
    },
    {
      "cell_type": "markdown",
      "metadata": {
        "id": "Da3E1flT9KIR"
      },
      "source": [
        "**15) Increase the batch size to 64 and retrain.  Better or worse?  Try 128 as well.  How does increasing the batch size improve the training?**"
      ]
    },
    {
      "cell_type": "code",
      "execution_count": 18,
      "metadata": {
        "id": "3ez0j9QG9KIR",
        "colab": {
          "base_uri": "https://localhost:8080/"
        },
        "outputId": "addfaec9-a334-4e8b-8006-53e783bb5679"
      },
      "outputs": [
        {
          "output_type": "stream",
          "name": "stdout",
          "text": [
            "Epoch 1/10\n",
            "704/704 [==============================] - 5s 7ms/step - loss: 0.7066 - accuracy: 0.7564 - val_loss: 1.3236 - val_accuracy: 0.5824\n",
            "Epoch 2/10\n",
            "704/704 [==============================] - 5s 6ms/step - loss: 0.6609 - accuracy: 0.7728 - val_loss: 1.0926 - val_accuracy: 0.6412\n",
            "Epoch 3/10\n",
            "704/704 [==============================] - 5s 6ms/step - loss: 0.6198 - accuracy: 0.7864 - val_loss: 1.2272 - val_accuracy: 0.6296\n",
            "Epoch 4/10\n",
            "704/704 [==============================] - 4s 6ms/step - loss: 0.5769 - accuracy: 0.7999 - val_loss: 1.5678 - val_accuracy: 0.5444\n",
            "Epoch 5/10\n",
            "704/704 [==============================] - 4s 6ms/step - loss: 0.5348 - accuracy: 0.8158 - val_loss: 1.0889 - val_accuracy: 0.6632\n",
            "Epoch 6/10\n",
            "704/704 [==============================] - 5s 7ms/step - loss: 0.4873 - accuracy: 0.8320 - val_loss: 1.1306 - val_accuracy: 0.6636\n",
            "Epoch 7/10\n",
            "704/704 [==============================] - 5s 6ms/step - loss: 0.4444 - accuracy: 0.8456 - val_loss: 1.4417 - val_accuracy: 0.5944\n",
            "Epoch 8/10\n",
            "704/704 [==============================] - 5s 7ms/step - loss: 0.4011 - accuracy: 0.8608 - val_loss: 1.5693 - val_accuracy: 0.5924\n",
            "Epoch 9/10\n",
            "704/704 [==============================] - 5s 8ms/step - loss: 0.3562 - accuracy: 0.8775 - val_loss: 1.7269 - val_accuracy: 0.5878\n",
            "Epoch 10/10\n",
            "704/704 [==============================] - 4s 6ms/step - loss: 0.3167 - accuracy: 0.8906 - val_loss: 4.1388 - val_accuracy: 0.3910\n"
          ]
        }
      ],
      "source": [
        "history = cnmodel.fit(train_images, train_labels,batch_size = 64, epochs=10, validation_split=0.1)"
      ]
    },
    {
      "cell_type": "markdown",
      "metadata": {
        "id": "kTMTJYfIb6tX"
      },
      "source": []
    },
    {
      "cell_type": "code",
      "execution_count": 19,
      "metadata": {
        "id": "2qMQthH0bmcl",
        "colab": {
          "base_uri": "https://localhost:8080/"
        },
        "outputId": "177966a6-ebad-41fa-c8e9-d18282c8cce4"
      },
      "outputs": [
        {
          "output_type": "stream",
          "name": "stdout",
          "text": [
            "Epoch 1/10\n",
            "352/352 [==============================] - 4s 11ms/step - loss: 0.2129 - accuracy: 0.9364 - val_loss: 1.3637 - val_accuracy: 0.6712\n",
            "Epoch 2/10\n",
            "352/352 [==============================] - 3s 10ms/step - loss: 0.1615 - accuracy: 0.9524 - val_loss: 1.4499 - val_accuracy: 0.6628\n",
            "Epoch 3/10\n",
            "352/352 [==============================] - 3s 10ms/step - loss: 0.1347 - accuracy: 0.9614 - val_loss: 1.5163 - val_accuracy: 0.6722\n",
            "Epoch 4/10\n",
            "352/352 [==============================] - 3s 10ms/step - loss: 0.1129 - accuracy: 0.9699 - val_loss: 1.6560 - val_accuracy: 0.6642\n",
            "Epoch 5/10\n",
            "352/352 [==============================] - 4s 10ms/step - loss: 0.0943 - accuracy: 0.9758 - val_loss: 2.1804 - val_accuracy: 0.6218\n",
            "Epoch 6/10\n",
            "352/352 [==============================] - 4s 10ms/step - loss: 0.0772 - accuracy: 0.9824 - val_loss: 1.8237 - val_accuracy: 0.6608\n",
            "Epoch 7/10\n",
            "352/352 [==============================] - 4s 10ms/step - loss: 0.0579 - accuracy: 0.9886 - val_loss: 1.8491 - val_accuracy: 0.6688\n",
            "Epoch 8/10\n",
            "352/352 [==============================] - 4s 10ms/step - loss: 0.0438 - accuracy: 0.9929 - val_loss: 1.9764 - val_accuracy: 0.6604\n",
            "Epoch 9/10\n",
            "352/352 [==============================] - 4s 10ms/step - loss: 0.0329 - accuracy: 0.9957 - val_loss: 2.0549 - val_accuracy: 0.6614\n",
            "Epoch 10/10\n",
            "352/352 [==============================] - 3s 10ms/step - loss: 0.0241 - accuracy: 0.9982 - val_loss: 2.0980 - val_accuracy: 0.6682\n"
          ]
        }
      ],
      "source": [
        "history = cnmodel.fit(train_images, train_labels,batch_size = 128, epochs=10, validation_split=0.1)"
      ]
    },
    {
      "cell_type": "code",
      "execution_count": 20,
      "metadata": {
        "id": "XAch0D51cMyP",
        "colab": {
          "base_uri": "https://localhost:8080/",
          "height": 312
        },
        "outputId": "1c1ac2fd-9154-4055-eb27-6256cf7ce756"
      },
      "outputs": [
        {
          "output_type": "execute_result",
          "data": {
            "text/plain": [
              "Text(0.5, 0, 'epochs')"
            ]
          },
          "metadata": {},
          "execution_count": 20
        },
        {
          "output_type": "display_data",
          "data": {
            "text/plain": [
              "<Figure size 432x288 with 1 Axes>"
            ],
            "image/png": "[encoded data removed]"
          },
          "metadata": {
            "needs_background": "light"
          }
        }
      ],
      "source": [
        "plt.plot(history.history['accuracy'])\n",
        "plt.title('Model Accuracy')\n",
        "plt.ylabel('accuracy')\n",
        "plt.xlabel('epochs')"
      ]
    },
    {
      "cell_type": "markdown",
      "metadata": {
        "id": "n3UjCQd-9KIS"
      },
      "source": [
        "**16) Note how the validation accuracy begins to decrease at some point, while the training accuracy continues to increase.  What is this phenomena called?  Try adding 3 dropout layers to the model, one before each max pooling layer and one before the last layer, using a dropout ratio of 0.25.  Does this improve the model?**"
      ]
    },
    {
      "cell_type": "code",
      "execution_count": 21,
      "metadata": {
        "id": "Ke5XxUl19KIS"
      },
      "outputs": [],
      "source": [
        "cnmodel2 = Sequential()\n",
        "cnmodel2.add(Conv2D(32, (3, 3), activation='relu', input_shape=(32, 32, 3)))\n",
        "cnmodel2.add(Conv2D(32, (3, 3), activation='relu'))\n",
        "cnmodel2.add(Dropout(0.25))\n",
        "cnmodel2.add(MaxPooling2D((2, 2)))\n",
        "cnmodel2.add(Conv2D(64, (3, 3), activation='relu',))\n",
        "cnmodel2.add(Conv2D(64, (3, 3), activation='relu',))\n",
        "cnmodel2.add(Dropout(0.25))\n",
        "cnmodel2.add(MaxPooling2D((2, 2)))\n",
        "cnmodel2.add(Flatten(input_shape=[32,32,3]))\n",
        "cnmodel2.add(Dense(512, activation='relu',input_dim = 1024))\n",
        "cnmodel2.add(Dropout(0.25))\n",
        "cnmodel2.add(Dense(10, activation='softmax'))"
      ]
    },
    {
      "cell_type": "code",
      "execution_count": 22,
      "metadata": {
        "id": "DTbltG-BdJKd",
        "colab": {
          "base_uri": "https://localhost:8080/"
        },
        "outputId": "7bb86225-1086-40b2-dfb0-e75e397dbe4d"
      },
      "outputs": [
        {
          "output_type": "stream",
          "name": "stdout",
          "text": [
            "Epoch 1/10\n",
            "1407/1407 [==============================] - 8s 6ms/step - loss: 1.9812 - accuracy: 0.2745 - val_loss: 1.9185 - val_accuracy: 0.2986\n",
            "Epoch 2/10\n",
            "1407/1407 [==============================] - 8s 5ms/step - loss: 1.6333 - accuracy: 0.4099 - val_loss: 1.7235 - val_accuracy: 0.4010\n",
            "Epoch 3/10\n",
            "1407/1407 [==============================] - 8s 6ms/step - loss: 1.4610 - accuracy: 0.4727 - val_loss: 1.5064 - val_accuracy: 0.4956\n",
            "Epoch 4/10\n",
            "1407/1407 [==============================] - 7s 5ms/step - loss: 1.3549 - accuracy: 0.5148 - val_loss: 1.3935 - val_accuracy: 0.5184\n",
            "Epoch 5/10\n",
            "1407/1407 [==============================] - 7s 5ms/step - loss: 1.2744 - accuracy: 0.5458 - val_loss: 1.4242 - val_accuracy: 0.5012\n",
            "Epoch 6/10\n",
            "1407/1407 [==============================] - 7s 5ms/step - loss: 1.2091 - accuracy: 0.5706 - val_loss: 1.3122 - val_accuracy: 0.5646\n",
            "Epoch 7/10\n",
            "1407/1407 [==============================] - 7s 5ms/step - loss: 1.1516 - accuracy: 0.5894 - val_loss: 1.2878 - val_accuracy: 0.5338\n",
            "Epoch 8/10\n",
            "1407/1407 [==============================] - 7s 5ms/step - loss: 1.1007 - accuracy: 0.6110 - val_loss: 1.1611 - val_accuracy: 0.6038\n",
            "Epoch 9/10\n",
            "1407/1407 [==============================] - 7s 5ms/step - loss: 1.0544 - accuracy: 0.6275 - val_loss: 1.1752 - val_accuracy: 0.6166\n",
            "Epoch 10/10\n",
            "1407/1407 [==============================] - 7s 5ms/step - loss: 1.0086 - accuracy: 0.6458 - val_loss: 1.1715 - val_accuracy: 0.6086\n"
          ]
        }
      ],
      "source": [
        "cnmodel2.compile(loss='categorical_crossentropy', optimizer= 'SGD', metrics=['accuracy'])\n",
        "history = cnmodel2.fit(train_images, train_labels,batch_size = 32, epochs=10, validation_split=0.1)"
      ]
    },
    {
      "cell_type": "markdown",
      "metadata": {
        "id": "PKJSlZA49KIS"
      },
      "source": [
        "**17) Play with batch normalization.  For example, add batch normalization layers after each dropout layer.  Do you notice a faster increase in the model improvement? Why?**"
      ]
    },
    {
      "cell_type": "code",
      "execution_count": 23,
      "metadata": {
        "id": "SaiXRJqI9KIS"
      },
      "outputs": [],
      "source": [
        "cnmodel3 = Sequential()\n",
        "cnmodel3.add(Conv2D(32, (3, 3), activation='relu', input_shape=(32, 32, 3)))\n",
        "cnmodel3.add(Conv2D(32, (3, 3), activation='relu'))\n",
        "cnmodel3.add(Dropout(0.25))\n",
        "cnmodel3.add(BatchNormalization())\n",
        "cnmodel3.add(MaxPooling2D((2, 2)))\n",
        "cnmodel3.add(Conv2D(64, (3, 3), activation='relu',))\n",
        "cnmodel3.add(Conv2D(64, (3, 3), activation='relu',))\n",
        "cnmodel3.add(Dropout(0.25))\n",
        "cnmodel3.add(MaxPooling2D((2, 2)))\n",
        "cnmodel3.add(Flatten(input_shape=[32,32,3]))\n",
        "cnmodel3.add(Dense(512, activation='relu',input_dim = 1024))\n",
        "cnmodel3.add(Dropout(0.25))\n",
        "cnmodel3.add(BatchNormalization())\n",
        "cnmodel3.add(Dense(10, activation='softmax'))"
      ]
    },
    {
      "cell_type": "code",
      "execution_count": 24,
      "metadata": {
        "colab": {
          "base_uri": "https://localhost:8080/"
        },
        "id": "6hP9tazMeQwn",
        "outputId": "665e97f4-e92b-43d6-fba1-56d4bae82209"
      },
      "outputs": [
        {
          "output_type": "stream",
          "name": "stdout",
          "text": [
            "Epoch 1/10\n",
            "1407/1407 [==============================] - 9s 6ms/step - loss: 1.6944 - accuracy: 0.3935 - val_loss: 1.6640 - val_accuracy: 0.4038\n",
            "Epoch 2/10\n",
            "1407/1407 [==============================] - 8s 6ms/step - loss: 1.3143 - accuracy: 0.5354 - val_loss: 1.4409 - val_accuracy: 0.4920\n",
            "Epoch 3/10\n",
            "1407/1407 [==============================] - 8s 6ms/step - loss: 1.1716 - accuracy: 0.5848 - val_loss: 1.2922 - val_accuracy: 0.5486\n",
            "Epoch 4/10\n",
            "1407/1407 [==============================] - 8s 6ms/step - loss: 1.0667 - accuracy: 0.6216 - val_loss: 1.4408 - val_accuracy: 0.5152\n",
            "Epoch 5/10\n",
            "1407/1407 [==============================] - 8s 6ms/step - loss: 0.9892 - accuracy: 0.6518 - val_loss: 1.3731 - val_accuracy: 0.5216\n",
            "Epoch 6/10\n",
            "1407/1407 [==============================] - 9s 6ms/step - loss: 0.9341 - accuracy: 0.6739 - val_loss: 1.3178 - val_accuracy: 0.5422\n",
            "Epoch 7/10\n",
            "1407/1407 [==============================] - 9s 7ms/step - loss: 0.8845 - accuracy: 0.6881 - val_loss: 1.3125 - val_accuracy: 0.5306\n",
            "Epoch 8/10\n",
            "1407/1407 [==============================] - 8s 6ms/step - loss: 0.8459 - accuracy: 0.7026 - val_loss: 1.1257 - val_accuracy: 0.5808\n",
            "Epoch 9/10\n",
            "1407/1407 [==============================] - 9s 6ms/step - loss: 0.8118 - accuracy: 0.7158 - val_loss: 1.5098 - val_accuracy: 0.5100\n",
            "Epoch 10/10\n",
            "1407/1407 [==============================] - 9s 6ms/step - loss: 0.7778 - accuracy: 0.7277 - val_loss: 0.8897 - val_accuracy: 0.6942\n"
          ]
        }
      ],
      "source": [
        "cnmodel3.compile(loss='categorical_crossentropy', optimizer= 'SGD', metrics=['accuracy'])\n",
        "history = cnmodel3.fit(train_images, train_labels,batch_size = 32, epochs=10, validation_split=0.1)"
      ]
    },
    {
      "cell_type": "markdown",
      "metadata": {
        "id": "bFB4ElHQ9KIS"
      },
      "source": [
        "<a id='results'></a>\n",
        "\n",
        "# 4 - Interpreting the results\n",
        " \n",
        "<a id='results_prediction'></a>\n",
        "\n",
        "## 4.1 - Making predictions\n",
        "\n",
        "Assuming all went well during the previous tasks, you can now predict the category of a new image!  Here are a few examples of my predictions:"
      ]
    },
    {
      "cell_type": "markdown",
      "metadata": {
        "id": "71yrsHko9KIS"
      },
      "source": [
        "![Results.png](attachment:Results.png)"
      ]
    },
    {
      "cell_type": "markdown",
      "metadata": {
        "id": "zLTwT9fF9KIS"
      },
      "source": [
        "**18) Use `predict` on your trained model to test its prediction on a few example images of the test set. Using `imshow` and `hbar` from `matplotlib.pyplot`, try to recreate the image above for a few example images.**\n",
        "\n",
        "<!---**Hint:** at this point, it is probably convenient to use the `save` and `load_model` functions from Keras.  You can save the model after training it, and then decide to load from saved file instead of building a new one (if available) on successive runs.--->"
      ]
    },
    {
      "cell_type": "code",
      "source": [
        "pre = cnmodel.predict(test_images)\n",
        "pre = np.argmax(pre, axis=1)\n",
        "\n",
        "# Converting the test labels to class labels\n",
        "test_label_class = np.argmax(test_labels, axis=1)"
      ],
      "metadata": {
        "colab": {
          "base_uri": "https://localhost:8080/"
        },
        "id": "ibPJh1JUMClv",
        "outputId": "1c2ec2c2-5a37-421d-ce5b-9a6ad8727ce2"
      },
      "execution_count": 110,
      "outputs": [
        {
          "output_type": "stream",
          "name": "stdout",
          "text": [
            "313/313 [==============================] - 1s 2ms/step\n"
          ]
        }
      ]
    },
    {
      "cell_type": "code",
      "source": [
        "# Making predictions on a few example images from the test set\n",
        "predictions = model.predict(test_images[:5])\n",
        "for i in range(5):\n",
        "    \n",
        "    probs = predictions[i]\n",
        "    label = np.argmax(probs)\n",
        "    plt.imshow(test_images[i])\n",
        "    plt.title(f'Predicted: {label}')\n",
        "    plt.xlabel('Class Probabilities')\n",
        "    plt.xticks(range(10), labels=range(10))\n",
        "    plt.yticks(range(10), labels=range(10))\n",
        "    plt.barh(range(10), width=probs)\n",
        "    plt.show()\n"
      ],
      "metadata": {
        "colab": {
          "base_uri": "https://localhost:8080/",
          "height": 1000
        },
        "id": "RnZ7aCEgO9fd",
        "outputId": "22ff4e7d-f36c-4863-9d7a-3cd203367c4e"
      },
      "execution_count": 107,
      "outputs": [
        {
          "output_type": "stream",
          "name": "stdout",
          "text": [
            "1/1 [==============================] - 0s 18ms/step\n"
          ]
        },
        {
          "output_type": "display_data",
          "data": {
            "text/plain": [
              "<Figure size 432x288 with 1 Axes>"
            ],
            "image/png": "[encoded data removed]"
          },
          "metadata": {
            "needs_background": "light"
          }
        },
        {
          "output_type": "display_data",
          "data": {
            "text/plain": [
              "<Figure size 432x288 with 1 Axes>"
            ],
            "image/png": "[encoded data removed]"
          },
          "metadata": {
            "needs_background": "light"
          }
        },
        {
          "output_type": "display_data",
          "data": {
            "text/plain": [
              "<Figure size 432x288 with 1 Axes>"
            ],
            "image/png": "[encoded data removed]"
          },
          "metadata": {
            "needs_background": "light"
          }
        },
        {
          "output_type": "display_data",
          "data": {
            "text/plain": [
              "<Figure size 432x288 with 1 Axes>"
            ],
            "image/png": "[encoded data removed]"
          },
          "metadata": {
            "needs_background": "light"
          }
        },
        {
          "output_type": "display_data",
          "data": {
            "text/plain": [
              "<Figure size 432x288 with 1 Axes>"
            ],
            "image/png": "[encoded data removed]"
          },
          "metadata": {
            "needs_background": "light"
          }
        }
      ]
    },
    {
      "cell_type": "markdown",
      "metadata": {
        "id": "9HGJ2Zt39KIT"
      },
      "source": [
        "<a id='results_evaluation'></a>\n",
        "\n",
        "## 4.2 Evaluating the results"
      ]
    },
    {
      "cell_type": "markdown",
      "metadata": {
        "id": "upq60Jso9KIT"
      },
      "source": [
        "A confusion matrix is often used in supervised learning to understand how well (or not) each category is being classified.  Each element (i,j) in the confusion matrix represents the predicted class j for each true class i.  Consider the following 10 predictions for a 2 category model predicting male or female:\n",
        "\n",
        "| example     | true category  | predicted category  |\n",
        "|-------------|----------------|---------------------|\n",
        "| 1           | male           | male                |\n",
        "| 2           | female         | male                |\n",
        "| 3           | female         | female              |\n",
        "| 4           | male           | male                |\n",
        "| 5           | male           | female              |\n",
        "| 6           | male           | male                |\n",
        "| 7           | female         | female              |\n",
        "| 8           | male           | female              |\n",
        "| 9           | female         | female              |\n",
        "| 10          | female         | female              |\n",
        "\n",
        "Based on the above data, the model is accurate 70% of the time.  The confusion matrix is\n",
        "\n",
        "|        | male | female |\n",
        "|--------|------|--------|\n",
        "| male   | 3    | 2      |\n",
        "| female | 1    | 4      |\n",
        "\n",
        "The confusion matrix gives us more information than a simple accuracy measurement.  In this case, we see that the class female has a higher accuracy over male.  "
      ]
    },
    {
      "cell_type": "markdown",
      "metadata": {
        "id": "v5B6QxQG9KIT"
      },
      "source": [
        "**19) Create the confusion matrix for the CIFAR-10 dataset using the test data.  What does it tell you about the relationships between each class?**"
      ]
    },
    {
      "cell_type": "code",
      "execution_count": 111,
      "metadata": {
        "colab": {
          "base_uri": "https://localhost:8080/",
          "height": 456
        },
        "id": "WxOI-i7H9KIT",
        "scrolled": true,
        "outputId": "76361892-528f-46ca-bd3c-0e3c3598bfad"
      },
      "outputs": [
        {
          "output_type": "stream",
          "name": "stdout",
          "text": [
            "[[732  24  47  29  22   5  16  11  72  42]\n",
            " [ 44 747   5  20   4   8   9  10  48 105]\n",
            " [ 63   9 515  99  94  61  77  52  18  12]\n",
            " [ 32  13  53 506  91 161  64  40  16  24]\n",
            " [ 24   4  83  88 610  51  45  76  12   7]\n",
            " [ 18   6  42 221  92 502  30  68  11  10]\n",
            " [ 15   6  37  65  48  27 769  13  10  10]\n",
            " [ 23  10  34  58  87  57  13 692   6  20]\n",
            " [ 76  40  14  15  17   5  14   4 779  36]\n",
            " [ 42  86  13  32  13  16  13  18  46 721]]\n"
          ]
        },
        {
          "output_type": "execute_result",
          "data": {
            "text/plain": [
              "<matplotlib.image.AxesImage at 0x7ff19ae130d0>"
            ]
          },
          "metadata": {},
          "execution_count": 111
        },
        {
          "output_type": "display_data",
          "data": {
            "text/plain": [
              "<Figure size 432x288 with 1 Axes>"
            ],
            "image/png": "[encoded data removed]"
          },
          "metadata": {
            "needs_background": "light"
          }
        }
      ],
      "source": [
        "matrix = confusion_matrix(test_label_class, pre)\n",
        "print(matrix)\n",
        "plt.imshow(matrix)"
      ]
    },
    {
      "cell_type": "markdown",
      "metadata": {
        "id": "cD4lxOAe9KIT"
      },
      "source": [
        "<a id='pretrained_cnn'></a>\n",
        "# 5 - Improving on current performances"
      ]
    },
    {
      "cell_type": "markdown",
      "metadata": {
        "id": "TmzDftvp9KIT"
      },
      "source": [
        "**20) Play with different CNN architectures. Provide a few attempts (atleast 1 and atmost 3)**"
      ]
    },
    {
      "cell_type": "markdown",
      "source": [
        "Applying VGG16 and Resnet architecture and evaluating there predictions."
      ],
      "metadata": {
        "id": "E6lh8W0jRZ2L"
      }
    },
    {
      "cell_type": "code",
      "execution_count": 120,
      "metadata": {
        "id": "ZeIte5Cn9KIU"
      },
      "outputs": [],
      "source": [
        "from tensorflow.keras.applications import ResNet50, VGG16\n",
        "resmodel = ResNet50(include_top=True, weights=None, input_shape=(32, 32, 3), classes=10)\n",
        "vggmodel = VGG16(include_top=True, weights=None, input_shape=(32, 32, 3), classes=10)"
      ]
    },
    {
      "cell_type": "code",
      "source": [
        "predictions = resmodel.predict(test_images[:2])\n",
        "for i in range(2):\n",
        "    \n",
        "    probs = predictions[i]\n",
        "    label = np.argmax(probs)\n",
        "    plt.imshow(test_images[i])\n",
        "    plt.title(f'Predicted: {label}')\n",
        "    plt.xlabel('Class Probabilities')\n",
        "    plt.xticks(range(10), labels=range(10))\n",
        "    plt.yticks(range(10), labels=range(10))\n",
        "    plt.barh(range(10), width=probs)\n",
        "    plt.show()"
      ],
      "metadata": {
        "colab": {
          "base_uri": "https://localhost:8080/",
          "height": 590
        },
        "id": "B4ZQScXrRLD7",
        "outputId": "0d47ec24-80fa-4649-964c-d419297d9533"
      },
      "execution_count": 121,
      "outputs": [
        {
          "output_type": "stream",
          "name": "stdout",
          "text": [
            "1/1 [==============================] - 1s 828ms/step\n"
          ]
        },
        {
          "output_type": "display_data",
          "data": {
            "text/plain": [
              "<Figure size 432x288 with 1 Axes>"
            ],
            "image/png": "[encoded data removed]"
          },
          "metadata": {
            "needs_background": "light"
          }
        },
        {
          "output_type": "display_data",
          "data": {
            "text/plain": [
              "<Figure size 432x288 with 1 Axes>"
            ],
            "image/png": "[encoded data removed]"
          },
          "metadata": {
            "needs_background": "light"
          }
        }
      ]
    },
    {
      "cell_type": "code",
      "source": [
        "predictions = vggmodel.predict(test_images[:2])\n",
        "for i in range(2):\n",
        "    \n",
        "    probs = predictions[i]\n",
        "    label = np.argmax(probs)\n",
        "    plt.imshow(test_images[i])\n",
        "    plt.title(f'Predicted: {label}')\n",
        "    plt.xlabel('Class Probabilities')\n",
        "    plt.xticks(range(10), labels=range(10))\n",
        "    plt.yticks(range(10), labels=range(10))\n",
        "    plt.barh(range(10), width=probs)\n",
        "    plt.show()"
      ],
      "metadata": {
        "colab": {
          "base_uri": "https://localhost:8080/",
          "height": 628
        },
        "id": "lJaPOaSqRNOC",
        "outputId": "4b1b18a2-10f4-42fd-cd31-344cc4439b7b"
      },
      "execution_count": 122,
      "outputs": [
        {
          "output_type": "stream",
          "name": "stderr",
          "text": [
            "WARNING:tensorflow:5 out of the last 320 calls to <function Model.make_predict_function.<locals>.predict_function at 0x7ff1a8f9aaf0> triggered tf.function retracing. Tracing is expensive and the excessive number of tracings could be due to (1) creating @tf.function repeatedly in a loop, (2) passing tensors with different shapes, (3) passing Python objects instead of tensors. For (1), please define your @tf.function outside of the loop. For (2), @tf.function has reduce_retracing=True option that can avoid unnecessary retracing. For (3), please refer to https://www.tensorflow.org/guide/function#controlling_retracing and https://www.tensorflow.org/api_docs/python/tf/function for  more details.\n"
          ]
        },
        {
          "output_type": "stream",
          "name": "stdout",
          "text": [
            "1/1 [==============================] - 0s 138ms/step\n"
          ]
        },
        {
          "output_type": "display_data",
          "data": {
            "text/plain": [
              "<Figure size 432x288 with 1 Axes>"
            ],
            "image/png": "[encoded data removed]"
          },
          "metadata": {
            "needs_background": "light"
          }
        },
        {
          "output_type": "display_data",
          "data": {
            "text/plain": [
              "<Figure size 432x288 with 1 Axes>"
            ],
            "image/png": "[encoded data removed]"
          },
          "metadata": {
            "needs_background": "light"
          }
        }
      ]
    },
    {
      "cell_type": "markdown",
      "metadata": {
        "id": "4fPE2RIr9KIU"
      },
      "source": [
        "Note that several pre-trained networks are directly accessible via keras (see https://nbviewer.jupyter.org/github/fchollet/deep-learning-with-python-notebooks/blob/master/5.3-using-a-pretrained-convnet.ipynb)"
      ]
    }
  ],
  "metadata": {
    "accelerator": "GPU",
    "anaconda-cloud": {},
    "colab": {
      "provenance": []
    },
    "gpuClass": "standard",
    "kernelspec": {
      "display_name": "Python 3 (ipykernel)",
      "language": "python",
      "name": "python3"
    },
    "language_info": {
      "codemirror_mode": {
        "name": "ipython",
        "version": 3
      },
      "file_extension": ".py",
      "mimetype": "text/x-python",
      "name": "python",
      "nbconvert_exporter": "python",
      "pygments_lexer": "ipython3",
      "version": "3.9.13"
    }
  },
  "nbformat": 4,
  "nbformat_minor": 0
}